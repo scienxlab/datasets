{
 "cells": [
  {
   "cell_type": "code",
   "execution_count": 2,
   "metadata": {},
   "outputs": [],
   "source": [
    "import numpy as np\n",
    "import pandas as pd\n",
    "import matplotlib.pyplot as plt"
   ]
  },
  {
   "cell_type": "markdown",
   "metadata": {},
   "source": [
    "# PREP for Mis-steps in machine learning\n",
    "\n",
    "First we'll import some data. I'm using an extract from the Rock Property Catalog, https://subsurfwiki.org/wiki/Rock_Property_Catalog"
   ]
  },
  {
   "cell_type": "code",
   "execution_count": 13,
   "metadata": {},
   "outputs": [
    {
     "data": {
      "text/html": [
       "<div>\n",
       "<style scoped>\n",
       "    .dataframe tbody tr th:only-of-type {\n",
       "        vertical-align: middle;\n",
       "    }\n",
       "\n",
       "    .dataframe tbody tr th {\n",
       "        vertical-align: top;\n",
       "    }\n",
       "\n",
       "    .dataframe thead th {\n",
       "        text-align: right;\n",
       "    }\n",
       "</style>\n",
       "<table border=\"1\" class=\"dataframe\">\n",
       "  <thead>\n",
       "    <tr style=\"text-align: right;\">\n",
       "      <th></th>\n",
       "      <th>Description</th>\n",
       "      <th>Lithology</th>\n",
       "      <th>Vp</th>\n",
       "      <th>Vs</th>\n",
       "      <th>Rho</th>\n",
       "      <th>Rho_n</th>\n",
       "    </tr>\n",
       "    <tr>\n",
       "      <th>RPC</th>\n",
       "      <th></th>\n",
       "      <th></th>\n",
       "      <th></th>\n",
       "      <th></th>\n",
       "      <th></th>\n",
       "      <th></th>\n",
       "    </tr>\n",
       "  </thead>\n",
       "  <tbody>\n",
       "    <tr>\n",
       "      <th>104818</th>\n",
       "      <td>KIAMICHI FORMA. 4</td>\n",
       "      <td>sandstone</td>\n",
       "      <td>3045.6</td>\n",
       "      <td>1595.7</td>\n",
       "      <td>2108.0</td>\n",
       "      <td>2109.120585</td>\n",
       "    </tr>\n",
       "    <tr>\n",
       "      <th>104893</th>\n",
       "      <td>KIAMICHI REMOLD 3</td>\n",
       "      <td>sandstone</td>\n",
       "      <td>3000.6</td>\n",
       "      <td>1517.1</td>\n",
       "      <td>2126.0</td>\n",
       "      <td>2090.342013</td>\n",
       "    </tr>\n",
       "    <tr>\n",
       "      <th>104652</th>\n",
       "      <td>NAVAJO ARCO 2</td>\n",
       "      <td>sandstone</td>\n",
       "      <td>3363.6</td>\n",
       "      <td>2041.5</td>\n",
       "      <td>2162.0</td>\n",
       "      <td>2131.989982</td>\n",
       "    </tr>\n",
       "    <tr>\n",
       "      <th>104752</th>\n",
       "      <td>NAVAJO ARCO REMOL 1</td>\n",
       "      <td>sandstone</td>\n",
       "      <td>3195.3</td>\n",
       "      <td>1606.2</td>\n",
       "      <td>2160.0</td>\n",
       "      <td>2184.939233</td>\n",
       "    </tr>\n",
       "    <tr>\n",
       "      <th>104598</th>\n",
       "      <td>FERRON 82-3 1677.5</td>\n",
       "      <td>sandstone</td>\n",
       "      <td>4237.5</td>\n",
       "      <td>2448.6</td>\n",
       "      <td>2428.0</td>\n",
       "      <td>2472.230768</td>\n",
       "    </tr>\n",
       "  </tbody>\n",
       "</table>\n",
       "</div>"
      ],
      "text/plain": [
       "                Description  Lithology      Vp      Vs     Rho        Rho_n\n",
       "RPC                                                                        \n",
       "104818    KIAMICHI FORMA. 4  sandstone  3045.6  1595.7  2108.0  2109.120585\n",
       "104893    KIAMICHI REMOLD 3  sandstone  3000.6  1517.1  2126.0  2090.342013\n",
       "104652        NAVAJO ARCO 2  sandstone  3363.6  2041.5  2162.0  2131.989982\n",
       "104752  NAVAJO ARCO REMOL 1  sandstone  3195.3  1606.2  2160.0  2184.939233\n",
       "104598   FERRON 82-3 1677.5  sandstone  4237.5  2448.6  2428.0  2472.230768"
      ]
     },
     "execution_count": 13,
     "metadata": {},
     "output_type": "execute_result"
    }
   ],
   "source": [
    "da = pd.read_csv('../../datasets/rpc/rpc-4-lithologies.csv', index_col='RPC')\n",
    "\n",
    "da.head()"
   ]
  },
  {
   "cell_type": "code",
   "execution_count": 14,
   "metadata": {},
   "outputs": [],
   "source": [
    "da = da.dropna()"
   ]
  },
  {
   "cell_type": "code",
   "execution_count": 15,
   "metadata": {},
   "outputs": [],
   "source": [
    "db = da.loc[da.Lithology.isin(['limestone', 'shale']), ['Lithology', 'Vp', 'Rho_n']]"
   ]
  },
  {
   "cell_type": "code",
   "execution_count": 16,
   "metadata": {},
   "outputs": [
    {
     "data": {
      "text/plain": [
       "((372, 3),\n",
       "   Lithology           Vp       Rho\n",
       " 0     shale  4953.660011  2.716639\n",
       " 1     shale  3444.658279  2.695508\n",
       " 2     shale  3507.803917  2.561016\n",
       " 3     shale  2988.889933  2.564407\n",
       " 4     shale  3642.000000  2.419448)"
      ]
     },
     "execution_count": 16,
     "metadata": {},
     "output_type": "execute_result"
    }
   ],
   "source": [
    "dol = da.loc[da['Lithology']=='dolomite', ['Lithology', 'Vp', 'Rho_n']].sample(n=20)\n",
    "df = pd.merge(db, dol, how='outer')\n",
    "df['Rho'] = df['Rho_n'] / 1000\n",
    "df = df.drop(columns=['Rho_n'])\n",
    "df.shape, df.head()"
   ]
  },
  {
   "cell_type": "code",
   "execution_count": 17,
   "metadata": {},
   "outputs": [],
   "source": [
    "df.to_csv('./rpc-3-lithologies.csv', index=False)"
   ]
  },
  {
   "cell_type": "code",
   "execution_count": 18,
   "metadata": {},
   "outputs": [],
   "source": [
    "df.to_csv('../../datasets/rpc/rpc-3-lithologies-imbalanced.csv', index=False)"
   ]
  },
  {
   "cell_type": "code",
   "execution_count": 11,
   "metadata": {},
   "outputs": [
    {
     "name": "stdout",
     "output_type": "stream",
     "text": [
      "Lithology,Vp,Rho\n",
      "shale,4953.660011,2.7166386302668006\n",
      "shale,3444.658279,2.695508460693545\n",
      "shale,3507.803917,2.5610159225579374\n",
      "shale,2988.889933,2.5644066530072824\n",
      "shale,3642.0,2.4194477546573347\n",
      "shale,4987.068176,2.6994527311986816\n",
      "shale,4395.760536,2.543268745691404\n",
      "shale,3819.020748,2.577656723311537\n",
      "shale,3033.329964,2.6058341696903655\n"
     ]
    }
   ],
   "source": [
    "!head ./rpc-3-lithologies.csv"
   ]
  },
  {
   "cell_type": "markdown",
   "metadata": {},
   "source": [
    "---\n",
    "\n",
    "&copy; 2023 Matt Hall, licensed CC BY"
   ]
  }
 ],
 "metadata": {
  "interpreter": {
   "hash": "886c583f8a98883be098d5088d8db03d22bd092a36a57e3c48aaf8e50654a668"
  },
  "kernelspec": {
   "display_name": "Python 3 (ipykernel)",
   "language": "python",
   "name": "python3"
  },
  "language_info": {
   "codemirror_mode": {
    "name": "ipython",
    "version": 3
   },
   "file_extension": ".py",
   "mimetype": "text/x-python",
   "name": "python",
   "nbconvert_exporter": "python",
   "pygments_lexer": "ipython3",
   "version": "3.12.0"
  }
 },
 "nbformat": 4,
 "nbformat_minor": 4
}
